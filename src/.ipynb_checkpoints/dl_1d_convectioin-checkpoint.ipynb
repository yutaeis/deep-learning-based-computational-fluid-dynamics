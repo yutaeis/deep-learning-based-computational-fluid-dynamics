{
 "cells": [
  {
   "cell_type": "markdown",
   "metadata": {},
   "source": [
    "# 2. 深層学習ベースの1次元移流方程式の近似\n",
    "\n",
    "下記の２つの手法をベースに，深層学習フレームワークChainerを用いて1次元移流方程式を近似する\n",
    "\n",
    "- Convolutional neural network\n",
    "- Backpropagation\n",
    "\n",
    "**参考**\n",
    "- Lonena Barba [CFD Python: 12 steps to Navier-Stokes](https://lorenabarba.com/blog/cfd-python-12-steps-to-navier-stokes/)\n",
    "- 暗黙の型宣言様 [改訂版　流体計算で覚えるPython3](https://fortran.booth.pm/items/832150)\n",
    "- Alex Krizhevsky et.al. [ImageNet Classification with Deep Convolutional Neural Networks](https://papers.nips.cc/paper/4824-imagenet-classification-with-deep-convolutional-neural-networks)\n",
    "- David E. Rumelhart et. al. [Learning representations by back-propagating errors](http://www.cs.toronto.edu/~hinton/absps/naturebp.pdf)\n",
    "- Preferred Networks, Inc [Chainer](https://chainer.org/)"
   ]
  },
  {
   "cell_type": "markdown",
   "metadata": {},
   "source": [
    "## モジュールをインポート"
   ]
  },
  {
   "cell_type": "code",
   "execution_count": null,
   "metadata": {},
   "outputs": [],
   "source": [
    "import random\n",
    "\n",
    "import numpy as np\n",
    "import pylab as plt\n",
    "from IPython import display as dp\n",
    "\n",
    "import chainer\n",
    "import chainer.functions as F\n",
    "import chainer.links as L"
   ]
  },
  {
   "cell_type": "markdown",
   "metadata": {},
   "source": [
    "## 定数を定義"
   ]
  },
  {
   "cell_type": "code",
   "execution_count": null,
   "metadata": {},
   "outputs": [],
   "source": [
    "#空間\n",
    "Lx = 1. #計算領域\n",
    "Nx = 101 #計算点数\n",
    "dx = Lx / (Nx-1) #離散点間の距離\n",
    "\n",
    "#時間\n",
    "Lt = 1. #計算時間\n",
    "Nt = 1000 #計算回数\n",
    "dt = Lt / Nt #計算時間の間隔\n",
    "\n",
    "#移流速度\n",
    "c = 1."
   ]
  },
  {
   "cell_type": "markdown",
   "metadata": {},
   "source": [
    "## 初期条件"
   ]
  },
  {
   "cell_type": "code",
   "execution_count": null,
   "metadata": {},
   "outputs": [],
   "source": [
    "def initial(Lx,Nx):\n",
    "    \"\"\"\n",
    "    空間の初期化\n",
    "    \"\"\"\n",
    "    x = np.linspace(0, Lx, Nx, dtype=np.float32)\n",
    "    u = (1. - np.cos(2 * np.pi * x / Lx) / 2.) ** 10\n",
    "    return x,u"
   ]
  },
  {
   "cell_type": "markdown",
   "metadata": {},
   "source": [
    "## 空間微分"
   ]
  },
  {
   "cell_type": "code",
   "execution_count": null,
   "metadata": {},
   "outputs": [],
   "source": [
    "def calc_diff(u, dx):\n",
    "    '''\n",
    "    中心差分法（2次方法）\n",
    "    '''\n",
    "    dudx = np.zeros_like(u)\n",
    "    dudx[1:-1] = u[2:] - u[:-2]\n",
    "    dudx[0] = u[1] - u[-1]\n",
    "    dudx[-1] = u[0] - u[-2]\n",
    "    dudx /= 2 * dx\n",
    "    return dudx"
   ]
  },
  {
   "cell_type": "markdown",
   "metadata": {},
   "source": [
    "## 時間積分"
   ]
  },
  {
   "cell_type": "code",
   "execution_count": null,
   "metadata": {},
   "outputs": [],
   "source": [
    "def forward_eiler(u, dx, dt, c=1.):\n",
    "    '''\n",
    "    オイラー法（1次方法）\n",
    "    '''\n",
    "    dudx = calc_diff(u, dx)\n",
    "    u_next = u - c * dudx * dt\n",
    "    return u_next"
   ]
  },
  {
   "cell_type": "markdown",
   "metadata": {},
   "source": [
    "## データセット作成\n",
    "1. 正解値のデータ\n",
    "2. ノイズ付加をしたデータ"
   ]
  },
  {
   "cell_type": "code",
   "execution_count": null,
   "metadata": {},
   "outputs": [],
   "source": [
    "# 1.正解データ\n",
    "def data_exact(Lx,Nx,Nt):\n",
    "    _, u = initial(Lx,Nx)\n",
    "    us_exact = [u]\n",
    "    \n",
    "    for t in range(Nt):\n",
    "        u = forward_eiler(u, dx, dt, c)\n",
    "        us_exact.append(u)\n",
    "        \n",
    "    return us_exact "
   ]
  },
  {
   "cell_type": "code",
   "execution_count": null,
   "metadata": {},
   "outputs": [],
   "source": [
    "# 2.ノイズ付加したデータ\n",
    "def data_noise(noise,Lx,Nx,Nt,us,us_noise):\n",
    "    _, u = initial(Lx,Nx)\n",
    "    \n",
    "    us_exact.append(u)\n",
    "    us_noise.append(u)\n",
    "    \n",
    "    for t in range(Nt):\n",
    "        u = forward_eiler(u, dx, dt, c)\n",
    "        u_noise = u * (1. + noise * (0.5 - np.random.rand(Nx))) \n",
    "        us_exact.append(u)\n",
    "        us_noise.append(u_noise)\n",
    "    return us_exact, us_noise"
   ]
  },
  {
   "cell_type": "markdown",
   "metadata": {},
   "source": [
    "# Convolutional neural network\n",
    "## モデルの定義"
   ]
  },
  {
   "cell_type": "code",
   "execution_count": null,
   "metadata": {},
   "outputs": [],
   "source": [
    "class Model(chainer.Chain):\n",
    "\n",
    "    def __init__(self):\n",
    "        super(Model, self).__init__()\n",
    "        with self.init_scope():\n",
    "            self.conv1 = L.Convolution1D(1, 32, ksize=3, stride=1, pad=1)\n",
    "            self.conv2 = L.Convolution1D(32, 32, ksize=3, stride=1, pad=1)\n",
    "            self.conv3 = L.Convolution1D(32, 1, ksize=3, stride=1, pad=1)\n",
    "    \n",
    "    def __call__(self, u):\n",
    "        h = F.elu(self.conv1(u))\n",
    "        h = F.elu(self.conv2(h))\n",
    "        h = F.elu(self.conv2(h))\n",
    "        u_next_pred = self.conv3(h)\n",
    "        return u_next_pred\n"
   ]
  },
  {
   "cell_type": "markdown",
   "metadata": {},
   "source": [
    "## 正解値データで流れ場を学習・予測"
   ]
  },
  {
   "cell_type": "code",
   "execution_count": null,
   "metadata": {},
   "outputs": [],
   "source": [
    "#データセット作成\n",
    "us_exact = data_exact(Lx,Nx,Nt)\n",
    "us_exact = np.array(us_exact,dtype=np.float32)"
   ]
  },
  {
   "cell_type": "code",
   "execution_count": null,
   "metadata": {},
   "outputs": [],
   "source": [
    "#モデル作成\n",
    "model = Model()\n",
    "lr=1e-5\n",
    "optimizer = chainer.optimizers.MomentumSGD(lr=lr)\n",
    "optimizer.setup(model)"
   ]
  },
  {
   "cell_type": "code",
   "execution_count": null,
   "metadata": {},
   "outputs": [],
   "source": [
    "#学習\n",
    "epoch = 1000\n",
    "b = 8\n",
    "p = 200\n",
    "for e in range(epoch):\n",
    "    perm = np.random.permutation(p)\n",
    "    for i in range(0, p, b):\n",
    "        \n",
    "        #教師データに次の流れ場 u の正解値データ\n",
    "        u_next_exact = us_exact[perm[i:i+b]+1].reshape(-1, 1, Nx)\n",
    "\n",
    "        #インプットに正解値データ u\n",
    "        #次の流れ場 u_next を予測\n",
    "        u = us_exact[perm[i:i+b]].reshape(-1, 1, Nx)\n",
    "        u_next_pred = model(u)\n",
    "\n",
    "        model.cleargrads()\n",
    "        loss = F.mean_squared_error(u_next_pred, u_next_exact)\n",
    "        loss.backward()\n",
    "        optimizer.update()\n",
    "\n",
    "        print(loss.data)"
   ]
  },
  {
   "cell_type": "code",
   "execution_count": null,
   "metadata": {},
   "outputs": [],
   "source": [
    "#予測結果比較\n",
    "x, u = initial(Lx,Nx)\n",
    "\n",
    "u_comp = u\n",
    "u_pred = u\n",
    "\n",
    "fig, ax = plt.subplots()\n",
    "pred, = ax.plot(x, u_pred, marker='o',label='cnn')\n",
    "comp, = ax.plot(x, u_comp,label='computaitonal')\n",
    "ax.grid(axis='y', lw=0.5)\n",
    "ax.legend(loc='best')\n",
    "\n",
    "\n",
    "dp.display(fig)\n",
    "dp.clear_output(wait=True)\n",
    "\n",
    "for t in range(500):\n",
    "    u_pred = model(u_pred.reshape(1, 1, Nx))[0, 0].data\n",
    "    u_comp = us_exact[t+1]\n",
    "\n",
    "    pred.set_ydata(u_pred)\n",
    "    comp.set_ydata(u_comp)\n",
    "\n",
    "    dp.display(fig)\n",
    "    dp.clear_output(wait=True)"
   ]
  },
  {
   "cell_type": "markdown",
   "metadata": {},
   "source": [
    "## ノイズを付加したデータで流れを学習・予測"
   ]
  },
  {
   "cell_type": "code",
   "execution_count": null,
   "metadata": {},
   "outputs": [],
   "source": [
    "#データセット作成\n",
    "#ノイズを付加したデータを5種類作成\n",
    "noise = 1e-4\n",
    "us_exact = []\n",
    "us_noise = []\n",
    "for i in range(5):\n",
    "    us_exact, us_noise = data_noise(noise,Lx,Nx,Nt,us_exact,us_noise)\n",
    "\n",
    "us_exact = np.array(us_exact,dtype=np.float32)\n",
    "us_noise = np.array(us_noise,dtype=np.float32)"
   ]
  },
  {
   "cell_type": "code",
   "execution_count": null,
   "metadata": {},
   "outputs": [],
   "source": [
    "#モデル作成\n",
    "model_noise = Model()\n",
    "lr=1e-5\n",
    "optimizer = chainer.optimizers.MomentumSGD(lr=lr)\n",
    "optimizer.setup(model_noise)"
   ]
  },
  {
   "cell_type": "code",
   "execution_count": null,
   "metadata": {},
   "outputs": [],
   "source": [
    "#学習\n",
    "epoch = 1000\n",
    "b = 8\n",
    "p = 200\n",
    "for e in range(epoch):\n",
    "    perm = np.random.permutation(p)\n",
    "    for i in range(0, p, b):\n",
    "        \n",
    "        #教師データに次の流れ場 u_next の正解値データ\n",
    "        u_next_exact = us_exact[perm[i:i+b]+1].reshape(-1, 1, Nx)\n",
    "\n",
    "        #インプットにノイズ付加のデータ u_noise\n",
    "        #次の流れ場 u_next を予測\n",
    "        u = us_noise[perm[i:i+b]].reshape(-1, 1, Nx)\n",
    "        u_next_pred = model_noise(u)\n",
    "\n",
    "        model_noise.cleargrads()\n",
    "        loss = F.mean_squared_error(u_next_pred, u_next_exact)\n",
    "        loss.backward()\n",
    "        optimizer.update()\n",
    "\n",
    "        print(loss.data)"
   ]
  },
  {
   "cell_type": "code",
   "execution_count": null,
   "metadata": {},
   "outputs": [],
   "source": [
    "#予測結果比較\n",
    "x, u = initial(Lx,Nx)\n",
    "\n",
    "u_comp = u\n",
    "u_pred = u\n",
    "\n",
    "fig, ax = plt.subplots()\n",
    "pred, = ax.plot(x, u_pred, marker='o',label='cnn add noise')\n",
    "comp, = ax.plot(x, u_comp,label='computaitonal')\n",
    "ax.grid(axis='y', lw=0.5)\n",
    "ax.legend(loc='best')\n",
    "\n",
    "dp.display(fig)\n",
    "dp.clear_output(wait=True)\n",
    "\n",
    "for t in range(500):\n",
    "    u_pred = model_noise(u_pred.reshape(1, 1, Nx))[0, 0].data\n",
    "    u_comp = us_exact[t+1]\n",
    "\n",
    "    pred.set_ydata(u_pred)\n",
    "    comp.set_ydata(u_comp)\n",
    "\n",
    "    dp.display(fig)\n",
    "    dp.clear_output(wait=True)"
   ]
  },
  {
   "cell_type": "markdown",
   "metadata": {},
   "source": [
    "# Backpropagation"
   ]
  },
  {
   "cell_type": "markdown",
   "metadata": {},
   "source": [
    "## モデルの定義\n",
    "- データセット作成に使用したパラメタを推定\n",
    "- 推定するパラメタ： c, dx, dt"
   ]
  },
  {
   "cell_type": "code",
   "execution_count": null,
   "metadata": {},
   "outputs": [],
   "source": [
    "class Model_b(chainer.Chain):\n",
    "\n",
    "    def __init__(self):\n",
    "        super(Model_b, self).__init__()\n",
    "        with self.init_scope():\n",
    "            # 求めるパラメタを適当に 1 で初期化 \n",
    "            self.c = chainer.Parameter(np.array(1., dtype=np.float32))\n",
    "            self.dx = chainer.Parameter(np.array(1., dtype=np.float32))\n",
    "            self.dt = chainer.Parameter(np.array(1., dtype=np.float32))\n",
    "\n",
    "    def __call__(self, u):\n",
    "        # CFDと全く同じ方法で次点の u を推定する．\n",
    "        # ただし、c, dx, dt は自分の持っているものを使う．\n",
    "        h = F.concat([u[:, :, -1:], u, u[:, :, :1]], axis=2)\n",
    "        h = h[:, :, 2:] - h[:, :, :-2]\n",
    "        dudx = h / (2 * self.dx)\n",
    "\n",
    "        u_next = u - self.c * dudx * self.dt\n",
    "        return u_next"
   ]
  },
  {
   "cell_type": "code",
   "execution_count": null,
   "metadata": {},
   "outputs": [],
   "source": [
    "model_b = Model_b()\n",
    "\n",
    "optimizer = chainer.optimizers.Adam(alpha=3e-4)\n",
    "optimizer.setup(model_b)"
   ]
  },
  {
   "cell_type": "code",
   "execution_count": null,
   "metadata": {},
   "outputs": [],
   "source": [
    "for e in range(100):\n",
    "    perm = np.random.permutation(1000)\n",
    "    sum_loss = 0.\n",
    "    for i in range(0, 1000, 32):\n",
    "        \n",
    "        #教師データに次の流れ場 u の正解値データ\n",
    "        u_next_true = us_exact[perm[i:i+8]+1].reshape(-1, 1, Nx)\n",
    "        \n",
    "        #インプットに正解値データ u\n",
    "        #次の流れ場 u_next を予測\n",
    "        u = us_exact[perm[i:i+8]].reshape(-1, 1, Nx)\n",
    "        u_next_pred = model_b(u)\n",
    "\n",
    "        model_b.cleargrads()\n",
    "        loss = F.mean_absolute_error(u_next_pred, u_next_true)\n",
    "        loss.backward()\n",
    "        optimizer.update()\n",
    "\n",
    "        sum_loss += loss.data * 32\n",
    "\n",
    "    print(sum_loss / 1000)"
   ]
  },
  {
   "cell_type": "code",
   "execution_count": null,
   "metadata": {},
   "outputs": [],
   "source": [
    "#予測結果比較\n",
    "x, u = initial(Lx,Nx)\n",
    "\n",
    "u_comp = u\n",
    "u_pred = u\n",
    "\n",
    "fig, ax = plt.subplots()\n",
    "pred, = ax.plot(x, u_pred, marker='o',label='backpropagation')\n",
    "comp, = ax.plot(x, u_comp,label='computaitonal')\n",
    "ax.grid(axis='y', lw=0.5)\n",
    "ax.legend(loc='best')\n",
    "\n",
    "\n",
    "dp.display(fig)\n",
    "dp.clear_output(wait=True)\n",
    "\n",
    "for t in range(500):\n",
    "    u_pred = model_b(u_pred.reshape(1, 1, Nx))[0, 0].data\n",
    "    u_comp = us_exact[t+1]\n",
    "\n",
    "    pred.set_ydata(u_pred)\n",
    "    comp.set_ydata(u_comp)\n",
    "\n",
    "    dp.display(fig)\n",
    "    dp.clear_output(wait=True)"
   ]
  }
 ],
 "metadata": {
  "kernelspec": {
   "display_name": "Python 3",
   "language": "python",
   "name": "python3"
  },
  "language_info": {
   "codemirror_mode": {
    "name": "ipython",
    "version": 3
   },
   "file_extension": ".py",
   "mimetype": "text/x-python",
   "name": "python",
   "nbconvert_exporter": "python",
   "pygments_lexer": "ipython3",
   "version": "3.6.9"
  }
 },
 "nbformat": 4,
 "nbformat_minor": 4
}
