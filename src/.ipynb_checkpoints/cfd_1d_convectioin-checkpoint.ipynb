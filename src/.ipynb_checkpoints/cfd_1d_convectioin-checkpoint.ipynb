{
 "cells": [
  {
   "cell_type": "markdown",
   "metadata": {},
   "source": [
    "# 1. 数値計算による1次元移流方程式の近似\n",
    "\n",
    "深層学習ベースの流体シミュレーションをする準備段階として下記の移流方程式を離散化，数値計算で近似し，解析解と比較します．\n",
    "\n",
    "$$\\frac{\\partial u}{\\partial t} + c \\frac{\\partial u}{\\partial x} = 0$$\n",
    "\n",
    "この方程式は移動する物理量uを時間t，空間x，移流速度cで表現したものです．\n",
    "\n",
    "**参考**\n",
    "- Lonena Barba [CFD Python: 12 ts to Navier-Stokes](https://lorenabarba.com/blog/cfd-python-12-ts-to-navier-stokes/)\n",
    "- 暗黙の型宣言 [改訂版　流体計算で覚えるPython3](https://fortran.booth.pm/items/832150)"
   ]
  },
  {
   "cell_type": "markdown",
   "metadata": {},
   "source": [
    "## モジュールをインポート"
   ]
  },
  {
   "cell_type": "code",
   "execution_count": null,
   "metadata": {},
   "outputs": [],
   "source": [
    "import numpy as np\n",
    "import pylab as plt\n",
    "from IPython import display as dp"
   ]
  },
  {
   "cell_type": "markdown",
   "metadata": {},
   "source": [
    "## 定数を定義"
   ]
  },
  {
   "cell_type": "code",
   "execution_count": null,
   "metadata": {},
   "outputs": [],
   "source": [
    "#空間\n",
    "Lx = 1. #計算領域\n",
    "Nx = 51 #計算点数\n",
    "dx = Lx / (Nx-1) #離散点間の距離\n",
    "\n",
    "#時間\n",
    "Lt = 1. #計算時間\n",
    "Nt = 500 #計算回数\n",
    "dt = Lt / Nt #計算時間の間隔\n",
    "\n",
    "#移流速度\n",
    "c = 1."
   ]
  },
  {
   "cell_type": "markdown",
   "metadata": {},
   "source": [
    "## 初期条件"
   ]
  },
  {
   "cell_type": "code",
   "execution_count": null,
   "metadata": {},
   "outputs": [],
   "source": [
    "def initial(Lx,Nx):\n",
    "    \"\"\"\n",
    "    空間の初期化\n",
    "    \"\"\"\n",
    "    x = np.linspace(0, Lx, Nx, dtype=np.float32)\n",
    "    u = (1. - np.cos(2 * np.pi * x / Lx) / 2.) ** 8\n",
    "    return x,u"
   ]
  },
  {
   "cell_type": "markdown",
   "metadata": {},
   "source": [
    "## 解析解"
   ]
  },
  {
   "cell_type": "code",
   "execution_count": null,
   "metadata": {},
   "outputs": [],
   "source": [
    "def calc_anly(Lx,x,n,dt,c=1.):\n",
    "    \"\"\"\n",
    "    解析解算出\n",
    "    \"\"\"\n",
    "    u_anly_next = (1. - np.cos(2 * np.pi * (x -c*n*dt) / Lx) / 2.) ** 8\n",
    "    return u_anly_next"
   ]
  },
  {
   "cell_type": "markdown",
   "metadata": {},
   "source": [
    "## 空間微分"
   ]
  },
  {
   "cell_type": "code",
   "execution_count": null,
   "metadata": {},
   "outputs": [],
   "source": [
    "def calc_diff(u, dx):\n",
    "    '''\n",
    "    中心差分法（2次方法）\n",
    "    '''\n",
    "    dudx = np.zeros_like(u)\n",
    "    dudx[1:-1] = u[2:] - u[:-2]\n",
    "    dudx[0] = u[1] - u[-1]\n",
    "    dudx[-1] = u[0] - u[-2]\n",
    "    dudx /= 2 * dx\n",
    "    return dudx"
   ]
  },
  {
   "cell_type": "markdown",
   "metadata": {},
   "source": [
    "## 時間積分"
   ]
  },
  {
   "cell_type": "code",
   "execution_count": null,
   "metadata": {},
   "outputs": [],
   "source": [
    "def forward_euler(u, dx, dt, c=1.):\n",
    "    '''\n",
    "    オイラー法（1次方法）\n",
    "    '''\n",
    "    dudx = calc_diff(u, dx)\n",
    "    u_next = u - c * dudx * dt\n",
    "    return u_next\n",
    "\n",
    "def modified_euler(u, dx, dt, c=1.):\n",
    "    '''\n",
    "    修正オイラー法（2次方法）\n",
    "    '''\n",
    "    dudx05 = calc_diff(u, dx)\n",
    "    u05 = u - c * dudx05 * dt\n",
    "    dudx = calc_diff(u05, dx)\n",
    "    u_next = u - c*(dudx05+dudx)/2.*dt\n",
    "    return u_next"
   ]
  },
  {
   "cell_type": "markdown",
   "metadata": {},
   "source": [
    "## 中心差分法（空間微分），オイラー法（時間積分）\n",
    "オイラー法は1次方法であるため精度が低いです．"
   ]
  },
  {
   "cell_type": "code",
   "execution_count": null,
   "metadata": {},
   "outputs": [],
   "source": [
    "x,u = initial(Lx,Nx)\n",
    "u_for = u\n",
    "\n",
    "fig, ax = plt.subplots()\n",
    "\n",
    "for_euler, = ax.plot(x, u, marker='.',c='tab:blue',label='forward Euler')\n",
    "analytical, = ax.plot(x, u,marker='',c='tab:orange',label='analytical') \n",
    "\n",
    "ax.set_xlim(0,1)\n",
    "ax.set_ylim(-2,30)\n",
    "ax.grid(axis='y', lw=0.5)\n",
    "ax.legend(loc='best')\n",
    "\n",
    "dp.display(fig)\n",
    "dp.clear_output(wait=True)\n",
    "\n",
    "for t in range(Nt):\n",
    "    u_for = forward_euler(u_for, dx, dt)\n",
    "    u_anly = calc_anly(Lx,x,t,dt)\n",
    "    \n",
    "    for_euler.set_ydata(u_for)\n",
    "    analytical.set_ydata(u_anly)\n",
    "    \n",
    "    dp.display(fig)\n",
    "    dp.clear_output(wait=True)"
   ]
  },
  {
   "cell_type": "markdown",
   "metadata": {},
   "source": [
    "## 中心差分法（空間微分），修正オイラー法（時間積分）\n",
    "修正オイラー法は2次方法であるため1次のオイラー法に比べて精度が高いです．"
   ]
  },
  {
   "cell_type": "code",
   "execution_count": null,
   "metadata": {},
   "outputs": [],
   "source": [
    "x,u = initial(Lx,Nx)\n",
    "u_mod = u\n",
    "\n",
    "fig, ax = plt.subplots()\n",
    "\n",
    "mod_euler, = ax.plot(x, u, marker='o',c='tab:blue', label='modified Euler')\n",
    "analytical, = ax.plot(x, u,marker='',c='tab:orange',label='analytical') \n",
    "\n",
    "ax.set_xlim(0,1)\n",
    "ax.set_ylim(-2,30)\n",
    "ax.grid(axis='y', lw=0.5)\n",
    "ax.legend(loc='best')\n",
    "\n",
    "dp.display(fig)\n",
    "dp.clear_output(wait=True)\n",
    "\n",
    "for t in range(Nt):\n",
    "    u_mod = modified_euler(u_mod, dx, dt)\n",
    "    u_anly = calc_anly(Lx,x,t,dt)\n",
    "    \n",
    "    mod_euler.set_ydata(u_mod)\n",
    "    analytical.set_ydata(u_anly)\n",
    "    \n",
    "    dp.display(fig)\n",
    "    dp.clear_output(wait=True)"
   ]
  },
  {
   "cell_type": "markdown",
   "metadata": {},
   "source": [
    "## オイラー法と修正オイラー法の比較"
   ]
  },
  {
   "cell_type": "code",
   "execution_count": null,
   "metadata": {},
   "outputs": [],
   "source": [
    "x,u = initial(Lx,Nx)\n",
    "u_for = u\n",
    "u_mod = u\n",
    "\n",
    "fig, ax = plt.subplots()\n",
    "\n",
    "for_euler, = ax.plot(x, u, marker='o',c='tab:green',label='forward Euler')\n",
    "mod_euler, = ax.plot(x, u, marker='o',c='tab:blue', label='modified Euler')\n",
    "analytical, = ax.plot(x, u,marker='',c='tab:orange',label='analytical') \n",
    "\n",
    "ax.set_xlim(0,1)\n",
    "ax.set_ylim(-2,30)\n",
    "ax.grid(axis='y', lw=0.5)\n",
    "ax.legend(loc='best')\n",
    "\n",
    "dp.display(fig)\n",
    "dp.clear_output(wait=True)\n",
    "\n",
    "for t in range(Nt):\n",
    "    u_for = forward_euler(u_for, dx, dt)\n",
    "    u_mod = modified_euler(u_mod, dx, dt)\n",
    "    u_anly = calc_anly(Lx,x,t,dt)\n",
    "    \n",
    "    for_euler.set_ydata(u_for)\n",
    "    mod_euler.set_ydata(u_mod)\n",
    "    analytical.set_ydata(u_anly)\n",
    "    \n",
    "    dp.display(fig)\n",
    "    dp.clear_output(wait=True)"
   ]
  }
 ],
 "metadata": {
  "kernelspec": {
   "display_name": "Python 3",
   "language": "python",
   "name": "python3"
  },
  "language_info": {
   "codemirror_mode": {
    "name": "ipython",
    "version": 3
   },
   "file_extension": ".py",
   "mimetype": "text/x-python",
   "name": "python",
   "nbconvert_exporter": "python",
   "pygments_lexer": "ipython3",
   "version": "3.6.9"
  }
 },
 "nbformat": 4,
 "nbformat_minor": 4
}
